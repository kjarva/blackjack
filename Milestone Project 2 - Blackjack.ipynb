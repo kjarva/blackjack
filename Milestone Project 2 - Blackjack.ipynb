{
 "cells": [
  {
   "cell_type": "code",
   "execution_count": 1,
   "id": "72f42abf",
   "metadata": {},
   "outputs": [],
   "source": [
    "# Card Properties - Setting A as 11 by default and if that would bust the player will drop to 1\n",
    "\n",
    "import random\n",
    "\n",
    "suits = ('Hearts', 'Diamonds', 'Spades', 'Clubs')\n",
    "\n",
    "ranks = ('Two', 'Three', 'Four', 'Five', 'Six', 'Seven', 'Eight', 'Nine', 'Ten', 'Jack', 'Queen', 'King', 'Ace')\n",
    "\n",
    "values = {'Two':2,'Three':3, 'Four':4, 'Five':5, 'Six':6, 'Seven':7,'Eight':8, 'Nine':9, 'Ten':10, 'Jack':10,\n",
    "         'Queen':10, 'King':10, 'Ace':1}"
   ]
  },
  {
   "cell_type": "code",
   "execution_count": 2,
   "id": "f45761f5",
   "metadata": {},
   "outputs": [],
   "source": [
    "class Card:\n",
    "    \n",
    "    def __init__(self, suit, rank):\n",
    "        self.suit = suit\n",
    "        self.rank = rank\n",
    "        self.value = values[rank]\n",
    "        \n",
    "    def __str__(self):\n",
    "        return f'The {self.rank} of {self.suit}'"
   ]
  },
  {
   "cell_type": "code",
   "execution_count": 3,
   "id": "5950f2ad",
   "metadata": {},
   "outputs": [],
   "source": [
    "class Deck:\n",
    "    \n",
    "    def __init__(self):\n",
    "        \n",
    "        self.all_cards = []\n",
    "        \n",
    "        for suit in suits:\n",
    "            for rank in ranks:\n",
    "                created_card = Card(suit, rank)\n",
    "                self.all_cards.append(created_card)\n",
    "                \n",
    "    def shuffle(self):\n",
    "        random.shuffle(self.all_cards)\n",
    "        \n",
    "    def deal(self):\n",
    "        return self.all_cards.pop()\n",
    "    \n",
    "    def __str__(self):\n",
    "            for card in self.all_cards:\n",
    "                print(card)\n",
    "            return str('') \n",
    "            "
   ]
  },
  {
   "cell_type": "code",
   "execution_count": 4,
   "id": "5bd364d1",
   "metadata": {},
   "outputs": [],
   "source": [
    "test_deck = Deck()"
   ]
  },
  {
   "cell_type": "code",
   "execution_count": 5,
   "id": "e649d27d",
   "metadata": {},
   "outputs": [],
   "source": [
    "class Hand:\n",
    "    def __init__(self):\n",
    "        self.cards = []  # start with an empty list as we did in the Deck class\n",
    "        self.value = 0   # start with zero value\n",
    "        self.aces = 0    # add an attribute to keep track of aces\n",
    "    \n",
    "    def add_card(self,card):\n",
    "        self.value += card.value\n",
    "        self.cards.append(card)\n",
    "    \n",
    "    def adjust_for_ace(self, cards):\n",
    "        # Count aces as 1, Then, if the hand contains an ace and the total is currently <= 11, add 10 to hand value\n",
    "        # Will likely want to use Map with this function? map(fun, iter)\n",
    "\n",
    "        self.aces = 0\n",
    "        \n",
    "        for card in self.cards:\n",
    "            if card.value == 1 and self.value <= 11:\n",
    "                self.aces +=1\n",
    "                self.value += 10\n",
    "            elif card.value == 1 and self.value >11:\n",
    "                self.aces +=1\n",
    "            \n",
    "    def __str__(self):\n",
    "            for card in self.cards:\n",
    "                print(card)\n",
    "            return str('') "
   ]
  },
  {
   "cell_type": "code",
   "execution_count": 6,
   "id": "598371c4",
   "metadata": {},
   "outputs": [],
   "source": [
    "class Chips:\n",
    "    \n",
    "    def __init__(self):\n",
    "        self.total = 100  # This can be set to a default value or supplied by a user input\n",
    "        self.bet = 0\n",
    "        \n",
    "    def win_bet(self):\n",
    "        self.total += self.bet * 2\n",
    "        self.bet = 0\n",
    "    \n",
    "    def lose_bet(self):\n",
    "        self.total -= self.bet\n",
    "        self.bet = 0\n",
    "        "
   ]
  },
  {
   "cell_type": "code",
   "execution_count": 7,
   "id": "74d9d831",
   "metadata": {},
   "outputs": [],
   "source": [
    "def take_bet(chips):\n",
    "    betting = True\n",
    "    \n",
    "    while betting:\n",
    "        \n",
    "        try:\n",
    "            bet = input('Place your bets! Enter an amount: ')\n",
    "            bet = int(bet)\n",
    "            if bet <= chips.total:\n",
    "                chips.bet = bet\n",
    "                betting = False\n",
    "                break\n",
    "\n",
    "        except:\n",
    "            print('That\\'s not a valid amount. Please place a bet.')\n",
    "            continue\n",
    "            \n",
    "        else:\n",
    "            print(f'Not enough chips, you have {chips.total} available.')\n",
    "            continue"
   ]
  },
  {
   "cell_type": "code",
   "execution_count": 8,
   "id": "831de27c",
   "metadata": {
    "scrolled": true
   },
   "outputs": [
    {
     "name": "stdout",
     "output_type": "stream",
     "text": [
      "Place your bets! Enter an amount: 5\n"
     ]
    }
   ],
   "source": [
    "player_chips = Chips()\n",
    "player_hand = Hand()\n",
    "dealer_hand = Hand()\n",
    "take_bet(player_chips)"
   ]
  },
  {
   "cell_type": "code",
   "execution_count": 9,
   "id": "8da13f47",
   "metadata": {},
   "outputs": [],
   "source": [
    "def hit(deck,hand):\n",
    "    dealt_card = deck.deal()\n",
    "    print(dealt_card)\n",
    "    hand.add_card(dealt_card)\n",
    "    return dealt_card"
   ]
  },
  {
   "cell_type": "code",
   "execution_count": 10,
   "id": "cbeb42e1",
   "metadata": {},
   "outputs": [
    {
     "name": "stdout",
     "output_type": "stream",
     "text": [
      "The Ace of Clubs\n"
     ]
    },
    {
     "data": {
      "text/plain": [
       "<__main__.Card at 0x7f130c5bf8e0>"
      ]
     },
     "execution_count": 10,
     "metadata": {},
     "output_type": "execute_result"
    }
   ],
   "source": [
    "hit(test_deck, dealer_hand)"
   ]
  },
  {
   "cell_type": "code",
   "execution_count": 11,
   "id": "bec08887",
   "metadata": {},
   "outputs": [
    {
     "name": "stdout",
     "output_type": "stream",
     "text": [
      "0\n"
     ]
    }
   ],
   "source": [
    "player_hand.adjust_for_ace(player_hand.cards)\n",
    "print(player_hand.aces)"
   ]
  },
  {
   "cell_type": "code",
   "execution_count": 12,
   "id": "5a41790f",
   "metadata": {},
   "outputs": [
    {
     "name": "stdout",
     "output_type": "stream",
     "text": [
      "\n"
     ]
    }
   ],
   "source": [
    "print(player_hand)"
   ]
  },
  {
   "cell_type": "code",
   "execution_count": 15,
   "id": "2b2abd7f",
   "metadata": {},
   "outputs": [],
   "source": [
    "def hit_or_stand(deck,hand):\n",
    "    global playing  # to control an upcoming while loop\n",
    "    \n",
    "    while playing == True:\n",
    "        if hand == dealer_hand:\n",
    "            if hand.value < 17:\n",
    "                print(f'Dealer hits. {hit()}.')\n",
    "            elif hand.value > 21:\n",
    "                dealer_bust()\n",
    "                playing = False\n",
    "                break\n",
    "        else:\n",
    "            if hand == player_hand:\n",
    "                "
   ]
  },
  {
   "cell_type": "code",
   "execution_count": 16,
   "id": "6f7ca4ca",
   "metadata": {},
   "outputs": [
    {
     "ename": "IndentationError",
     "evalue": "expected an indented block (4121750780.py, line 4)",
     "output_type": "error",
     "traceback": [
      "\u001b[0;36m  File \u001b[0;32m\"/tmp/ipykernel_24575/4121750780.py\"\u001b[0;36m, line \u001b[0;32m4\u001b[0m\n\u001b[0;31m    hit_or_stand(test_deck, dealer_hand)\u001b[0m\n\u001b[0m    ^\u001b[0m\n\u001b[0;31mIndentationError\u001b[0m\u001b[0;31m:\u001b[0m expected an indented block\n"
     ]
    }
   ],
   "source": [
    "playing = True\n",
    "\n",
    "while playing:\n",
    "hit_or_stand(test_deck, dealer_hand)"
   ]
  }
 ],
 "metadata": {
  "hide_input": false,
  "kernelspec": {
   "display_name": "Python 3",
   "language": "python",
   "name": "python3"
  },
  "language_info": {
   "codemirror_mode": {
    "name": "ipython",
    "version": 3
   },
   "file_extension": ".py",
   "mimetype": "text/x-python",
   "name": "python",
   "nbconvert_exporter": "python",
   "pygments_lexer": "ipython3",
   "version": "3.8.11"
  }
 },
 "nbformat": 4,
 "nbformat_minor": 5
}
